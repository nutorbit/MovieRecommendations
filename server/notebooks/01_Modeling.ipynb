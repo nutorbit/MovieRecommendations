{
 "cells": [
  {
   "cell_type": "code",
   "execution_count": 20,
   "metadata": {},
   "outputs": [],
   "source": [
    "# !pip3 install implicit\n",
    "import implicit\n",
    "import pandas as pd\n",
    "import numpy as np\n",
    "import scipy.sparse as sparse\n",
    "\n",
    "from glob import glob\n",
    "from IPython.core.interactiveshell import InteractiveShell\n",
    "\n",
    "InteractiveShell.ast_node_interactivity = 'all'"
   ]
  },
  {
   "cell_type": "code",
   "execution_count": 21,
   "metadata": {},
   "outputs": [
    {
     "data": {
      "text/plain": [
       "['../data/links.csv',\n",
       " '../data/tags.csv',\n",
       " '../data/movies_metadata.csv',\n",
       " '../data/ratings.csv',\n",
       " '../data/movies.csv']"
      ]
     },
     "execution_count": 21,
     "metadata": {},
     "output_type": "execute_result"
    }
   ],
   "source": [
    "paths = glob('../data/*.csv')\n",
    "paths"
   ]
  },
  {
   "cell_type": "code",
   "execution_count": 22,
   "metadata": {},
   "outputs": [],
   "source": [
    "links_df   = pd.read_csv(paths[0])\n",
    "tags_df    = pd.read_csv(paths[1])\n",
    "ratings_df = pd.read_csv(paths[3])\n",
    "movies_df  = pd.read_csv(paths[4])"
   ]
  },
  {
   "cell_type": "code",
   "execution_count": 23,
   "metadata": {},
   "outputs": [],
   "source": [
    "user_item = sparse.load_npz('../data/user_item.npz')"
   ]
  },
  {
   "cell_type": "code",
   "execution_count": 24,
   "metadata": {},
   "outputs": [
    {
     "data": {
      "text/plain": [
       "<610x9724 sparse matrix of type '<class 'numpy.float64'>'\n",
       "\twith 100836 stored elements in Compressed Sparse Row format>"
      ]
     },
     "execution_count": 24,
     "metadata": {},
     "output_type": "execute_result"
    }
   ],
   "source": [
    "user_item"
   ]
  },
  {
   "cell_type": "code",
   "execution_count": 25,
   "metadata": {},
   "outputs": [
    {
     "name": "stderr",
     "output_type": "stream",
     "text": [
      "100%|██████████| 20.0/20 [00:02<00:00,  8.92it/s]\n"
     ]
    }
   ],
   "source": [
    "model = implicit.als.AlternatingLeastSquares(factors=10,\n",
    "                                             iterations=20,\n",
    "                                             regularization=0.1,\n",
    "                                             num_threads=4)\n",
    "model.fit(user_item.T)"
   ]
  },
  {
   "cell_type": "code",
   "execution_count": 26,
   "metadata": {},
   "outputs": [],
   "source": [
    "def similar_items(item_id, movies_table, movies, N=5):\n",
    "    \"\"\"\n",
    "    Input\n",
    "    -----\n",
    "\n",
    "    item_id: int\n",
    "        MovieID in the movies table\n",
    "\n",
    "    movies_table: DataFrame\n",
    "        DataFrame with movie ids, movie title and genre\n",
    "\n",
    "    movies: np.array\n",
    "        Mapping between movieID in the movies_table and id in the item user matrix\n",
    "\n",
    "    N: int\n",
    "        Number of similar movies to return\n",
    "\n",
    "    Output\n",
    "    -----\n",
    "\n",
    "    recommendation: DataFrame\n",
    "        DataFrame with selected movie in first row and similar movies for N next rows\n",
    "\n",
    "    \"\"\"\n",
    "    # Get movie user index from the mapping array\n",
    "    user_item_id = movies.index(item_id)\n",
    "    # Get similar movies from the ALS model\n",
    "    similars = model.similar_items(user_item_id, N=N+1)    \n",
    "    # ALS similar_items provides (id, score), we extract a list of ids\n",
    "    l = [item[0] for item in similars]\n",
    "    # Convert those ids to movieID from the mapping array\n",
    "    ids = [movies[ids] for ids in l]\n",
    "    # Make a dataFrame of the movieIds\n",
    "    ids = pd.DataFrame(ids, columns=['movieId'])\n",
    "    # Add movie title and genres by joining with the movies table\n",
    "    recommendation = pd.merge(ids, movies_table, on='movieId', how='left')\n",
    "\n",
    "    return recommendation"
   ]
  },
  {
   "cell_type": "code",
   "execution_count": 11,
   "metadata": {},
   "outputs": [],
   "source": [
    "image_data = meta_df[['imdb_id', 'poster_path']]"
   ]
  },
  {
   "cell_type": "code",
   "execution_count": null,
   "metadata": {},
   "outputs": [],
   "source": []
  }
 ],
 "metadata": {
  "kernelspec": {
   "display_name": "Python 3",
   "language": "python",
   "name": "python3"
  },
  "language_info": {
   "codemirror_mode": {
    "name": "ipython",
    "version": 3
   },
   "file_extension": ".py",
   "mimetype": "text/x-python",
   "name": "python",
   "nbconvert_exporter": "python",
   "pygments_lexer": "ipython3",
   "version": "3.6.7"
  }
 },
 "nbformat": 4,
 "nbformat_minor": 2
}
